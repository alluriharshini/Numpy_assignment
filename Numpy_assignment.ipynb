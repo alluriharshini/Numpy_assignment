{
 "cells": [
  {
   "cell_type": "markdown",
   "id": "7e55adef-373a-4266-a046-4c4bc9ba9f4c",
   "metadata": {},
   "source": [
    "1. What is a Python library? Why do we use Python libraries?"
   ]
  },
  {
   "cell_type": "markdown",
   "id": "a1a4ad5f-2db0-4af9-8708-2cd661d21d11",
   "metadata": {},
   "source": [
    "A Python library is a collection of modules and functions that provide pre-written code to perform specific tasks or functions. These libraries aim to simplify the development process by offering reusable and well-tested code, allowing developers to leverage existing solutions rather than starting from scratch.\n",
    "\n",
    "Python libraries serve various purposes, such as:\n",
    "\n",
    "Code Reusability: Libraries encapsulate commonly used functions and algorithms, making it easy for developers to reuse code instead of writing the same functionality repeatedly.\n",
    "\n",
    "Time Efficiency: By using libraries, developers can save time and effort in implementing common tasks. This accelerates the development process and allows programmers to focus on solving specific problems rather than dealing with low-level details.\n",
    "\n",
    "Consistency: Libraries provide standardized and consistent implementations for common tasks, ensuring that developers follow best practices and avoid common pitfalls.\n",
    "\n",
    "Community Contribution: Python has a large and active community that develops and maintains numerous libraries. This fosters collaboration and allows developers to benefit from the collective knowledge and expertise of the community.\n",
    "\n",
    "Performance Optimization: Many libraries are optimized for performance, taking advantage of efficient algorithms and data structures. Using these libraries can result in faster and more efficient code.\n",
    "\n",
    "Domain-Specific Functionality: Python libraries often cater to specific domains or industries, providing specialized tools and functionality. For example, libraries like NumPy and pandas are widely used in data science and numerical computing.\n",
    "\n",
    "Interoperability: Libraries often provide interfaces to interact with other tools, languages, or systems. This enhances the interoperability of Python with various technologies.\n",
    "\n",
    "Open Source Ecosystem: Most Python libraries are open source, meaning that their source code is freely available. This fosters a collaborative and open development environment, allowing developers to inspect, modify, and contribute to the codebase.\n",
    "\n",
    "Examples of popular Python libraries include NumPy (for numerical computing), pandas (for data manipulation and analysis), TensorFlow and PyTorch (for machine learning and deep learning), Flask and Django (for web development), and many more."
   ]
  },
  {
   "cell_type": "markdown",
   "id": "932fed63-c6e5-411d-92cc-8bf2324a6bf3",
   "metadata": {},
   "source": [
    "2. What is the difference between Numpy array and List?"
   ]
  },
  {
   "cell_type": "markdown",
   "id": "c71b4643-76b7-47cc-8396-6879fe08a419",
   "metadata": {},
   "source": [
    "NumPy arrays and Python lists are both used to store collections of elements, but there are several key differences between them. Here are some of the main distinctions:\n",
    "\n",
    "Data Type:\n",
    "\n",
    "List: A Python list can contain elements of different data types. It is a dynamic array that can hold any type of object.\n",
    "NumPy Array: NumPy arrays are homogeneous, meaning all elements must be of the same data type. This allows for more efficient storage and operations on the array.\n",
    "Performance:\n",
    "\n",
    "List: Lists are generally slower than NumPy arrays, especially for large datasets, because they are dynamic and can store heterogeneous data.\n",
    "NumPy Array: NumPy arrays are more efficient for numerical operations and large datasets due to their homogeneous nature and optimized, contiguous memory layout.\n",
    "Memory Usage:\n",
    "\n",
    "List: Lists consume more memory than NumPy arrays because they store additional information about each element, such as type and reference count.\n",
    "NumPy Array: NumPy arrays have a more compact memory layout, resulting in lower memory usage.\n",
    "Operations:\n",
    "\n",
    "List: Lists support a variety of general-purpose operations, but they may not be as efficient for numerical and scientific computations.\n",
    "NumPy Array: NumPy arrays provide a wide range of mathematical and logical operations that are vectorized, meaning operations can be applied element-wise without the need for explicit loops.\n",
    "Syntax:\n",
    "\n",
    "List: Lists are built into the core Python language and have a simple syntax for creation and manipulation.\n",
    "NumPy Array: NumPy is a separate library, and its arrays are created using the numpy.array() constructor or other specialized functions. NumPy syntax allows for concise and expressive operations on arrays."
   ]
  },
  {
   "cell_type": "code",
   "execution_count": 2,
   "id": "8a7cd96b-9c7c-4201-91f4-bdd881045872",
   "metadata": {},
   "outputs": [
    {
     "name": "stdout",
     "output_type": "stream",
     "text": [
      "python_list_squared [1, 4, 9, 16, 25]\n",
      "numpy_array_squared [ 1  4  9 16 25]\n"
     ]
    }
   ],
   "source": [
    "python_list = [1, 2, 3, 4, 5]\n",
    "\n",
    "# NumPy Array\n",
    "import numpy as np\n",
    "numpy_array = np.array([1, 2, 3, 4, 5])\n",
    "\n",
    "# Operations\n",
    "python_list_squared = [x**2 for x in python_list]\n",
    "numpy_array_squared = numpy_array**2\n",
    "\n",
    "print(f\"python_list_squared {python_list_squared}\")  \n",
    "print(f\"numpy_array_squared {numpy_array_squared}\") \n"
   ]
  },
  {
   "cell_type": "markdown",
   "id": "2e015d45-586c-430d-b87f-8363855cd28f",
   "metadata": {},
   "source": [
    "3. Find the shape, size and dimension of the following array?\n",
    "[[1, 2, 3, 4]\n",
    "[5, 6, 7, 8],\n",
    "[9, 10, 11, 12]]"
   ]
  },
  {
   "cell_type": "code",
   "execution_count": 15,
   "id": "103a8bdf-62aa-4486-8b81-6c4dcdb35baa",
   "metadata": {},
   "outputs": [
    {
     "name": "stdout",
     "output_type": "stream",
     "text": [
      "shape : (3, 4)\n",
      "size : 12\n",
      "dimension : 2\n"
     ]
    }
   ],
   "source": [
    "import numpy as np\n",
    "arr=[[1, 2, 3, 4],\n",
    "[5, 6, 7, 8],\n",
    "[9, 10, 11, 12]]\n",
    "numpy_array = np.array(arr)\n",
    "numpy_array\n",
    "print(f\"shape : {numpy_array.shape}\")\n",
    "print(f\"size : {numpy_array.size}\")\n",
    "print(f\"dimension : {numpy_array.ndim}\")"
   ]
  },
  {
   "cell_type": "markdown",
   "id": "1a5bda1d-9dfb-4614-acb2-f8cb07e620c9",
   "metadata": {},
   "source": [
    "4. Write python code to access the first row of the following array?\n",
    "[[1, 2, 3, 4]\n",
    "[5, 6, 7, 8],\n",
    "[9, 10, 11, 12]]"
   ]
  },
  {
   "cell_type": "code",
   "execution_count": 8,
   "id": "1bf712a7-d690-4377-8c23-dca720cc9490",
   "metadata": {},
   "outputs": [
    {
     "data": {
      "text/plain": [
       "array([1, 2, 3, 4])"
      ]
     },
     "execution_count": 8,
     "metadata": {},
     "output_type": "execute_result"
    }
   ],
   "source": [
    "import numpy as np\n",
    "arr1=[[1, 2, 3, 4],\n",
    "[5, 6, 7, 8],\n",
    "[9, 10, 11, 12]]\n",
    "numpy_array1 = np.array(arr1)\n",
    "numpy_array1[0]"
   ]
  },
  {
   "cell_type": "markdown",
   "id": "9175dcc8-b279-4737-a043-5450fcd182f1",
   "metadata": {},
   "source": [
    "5. How do you access the element at the third row and fourth column from the given numpy array?\n",
    "[[1, 2, 3, 4]\n",
    "[5, 6, 7, 8],\n",
    "[9, 10, 11, 12]]"
   ]
  },
  {
   "cell_type": "code",
   "execution_count": 7,
   "id": "24018ab3-bb36-4362-b183-a7e8a9d0ca6b",
   "metadata": {},
   "outputs": [
    {
     "name": "stdout",
     "output_type": "stream",
     "text": [
      "element at the third row and fourth column from the given numpy array : 12\n"
     ]
    }
   ],
   "source": [
    "import numpy as np\n",
    "arr2=[[1, 2, 3, 4],\n",
    "[5, 6, 7, 8],\n",
    "[9, 10, 11, 12]]\n",
    "numpy_array2 = np.array(arr2)\n",
    "print(f\"element at the third row and fourth column from the given numpy array : {numpy_array2[2,3]}\")"
   ]
  },
  {
   "cell_type": "markdown",
   "id": "c7e149d2-b0c6-46c1-b0dd-bab6826b807c",
   "metadata": {},
   "source": [
    "6. Write code to extract all odd-indexed elements from the given numpy array?\n",
    "[[1, 2, 3, 4]\n",
    "[5, 6, 7, 8],\n",
    "[9, 10, 11, 12]]"
   ]
  },
  {
   "cell_type": "code",
   "execution_count": 6,
   "id": "183d16a7-1ff6-4299-8fd3-f12117536eba",
   "metadata": {},
   "outputs": [
    {
     "name": "stdout",
     "output_type": "stream",
     "text": [
      "Odd indexed elements :\n"
     ]
    },
    {
     "data": {
      "text/plain": [
       "array([[ 2,  4],\n",
       "       [ 6,  8],\n",
       "       [10, 12]])"
      ]
     },
     "execution_count": 6,
     "metadata": {},
     "output_type": "execute_result"
    }
   ],
   "source": [
    "import numpy as np\n",
    "arr3=[[1, 2, 3, 4],\n",
    "[5, 6, 7, 8],\n",
    "[9, 10, 11, 12]]\n",
    "numpy_array3 = np.array(arr3)\n",
    "odd_indexed_elements = numpy_array3[:, 1::2]  \n",
    "# \":\" selects all rows, \"1::2\" selects odd-indexed columns\n",
    "print(f\"Odd indexed elements :\")\n",
    "odd_indexed_elements"
   ]
  },
  {
   "cell_type": "markdown",
   "id": "9eb9f295-5fd8-4750-a4ba-b893b43b100f",
   "metadata": {},
   "source": [
    "7. How can you generate a random 3x3 matrix with values between 0 and 1?"
   ]
  },
  {
   "cell_type": "markdown",
   "id": "bbcd77aa-ee4e-4e03-9337-12a8ff1e8af6",
   "metadata": {},
   "source": [
    "You can generate a random 3x3 matrix with values between 0 and 1 using the numpy.random.rand function from the NumPy library. Here's an example:\n",
    "\n",
    "This code will create a 3x3 NumPy array (random_matrix) filled with random values between 0 (inclusive) and 1 (exclusive)."
   ]
  },
  {
   "cell_type": "code",
   "execution_count": 5,
   "id": "b57b3f26-49e0-4b78-af8e-9cc472905c65",
   "metadata": {},
   "outputs": [
    {
     "data": {
      "text/plain": [
       "array([[0.33911401, 0.77040742, 0.58541189],\n",
       "       [0.06614632, 0.46193036, 0.0685902 ],\n",
       "       [0.58728404, 0.41995397, 0.22029011]])"
      ]
     },
     "execution_count": 5,
     "metadata": {},
     "output_type": "execute_result"
    }
   ],
   "source": [
    "import numpy as np\n",
    "\n",
    "# Generate a random 3x3 matrix with values between 0 and 1\n",
    "np.random.rand(3, 3)\n"
   ]
  },
  {
   "cell_type": "markdown",
   "id": "7fac6d7d-0ff4-41e0-9e0c-73e6614c12ff",
   "metadata": {},
   "source": [
    "8. Describe the difference between np.random.rand and np.random.randn?"
   ]
  },
  {
   "cell_type": "markdown",
   "id": "3d9fbda2-7e72-4cde-9c2d-02563b6c6f60",
   "metadata": {},
   "source": [
    "The functions np.random.rand and np.random.randn are both used to generate random numbers in NumPy, but they have different behaviors and produce random numbers from different distributions.\n",
    "\n",
    "np.random.rand:\n",
    "\n",
    "This function generates random numbers from a uniform distribution over the interval [0, 1)\n",
    "The generated values are uniformly distributed, meaning that each value has an equal chance of being selected.\n",
    "The function takes dimensions as arguments to create an array of random values with the specified shape."
   ]
  },
  {
   "cell_type": "code",
   "execution_count": 4,
   "id": "3485560e-ca8a-48a2-b0b9-3e6d6e2d4e9c",
   "metadata": {},
   "outputs": [
    {
     "data": {
      "text/plain": [
       "array([[0.56380825, 0.70800354, 0.3507325 ],\n",
       "       [0.32421336, 0.58827374, 0.73719584]])"
      ]
     },
     "execution_count": 4,
     "metadata": {},
     "output_type": "execute_result"
    }
   ],
   "source": [
    "import numpy as np\n",
    "np.random.rand(2, 3)\n"
   ]
  },
  {
   "cell_type": "markdown",
   "id": "7439c1a9-83cd-434c-8175-9ee700c50b3b",
   "metadata": {},
   "source": [
    "np.random.randn:\n",
    "\n",
    "This function generates random numbers from a standard normal distribution (mean = 0, standard deviation = 1), also known as the standard Gaussian distribution.\n",
    "The generated values are not uniformly distributed; instead, they follow a bell-shaped curve with higher density around the mean (0) and decreasing density as you move away from the mean.\n",
    "Like np.random.rand, this function also takes dimensions as arguments to create an array of random values with the specified shape.\n",
    "Example:"
   ]
  },
  {
   "cell_type": "code",
   "execution_count": 3,
   "id": "03381455-e682-4639-998e-1c13b7aac85b",
   "metadata": {},
   "outputs": [
    {
     "data": {
      "text/plain": [
       "array([[-1.02040539, -0.26199947, -1.76971283],\n",
       "       [-0.60086526,  0.91996374, -0.3326074 ]])"
      ]
     },
     "execution_count": 3,
     "metadata": {},
     "output_type": "execute_result"
    }
   ],
   "source": [
    "import numpy as np\n",
    "\n",
    "np.random.randn(2, 3)\n",
    "\n"
   ]
  },
  {
   "cell_type": "markdown",
   "id": "2885b976-875f-4e53-883d-2224f65d9ab0",
   "metadata": {},
   "source": [
    "9. Write code to increase the dimension of the following array?\n",
    "[[1, 2, 3, 4]\n",
    "[5, 6, 7, 8],\n",
    "[9, 10, 11, 12]]"
   ]
  },
  {
   "cell_type": "code",
   "execution_count": 49,
   "id": "9a6451f4-9d9b-473a-808d-7506f9b80ed3",
   "metadata": {},
   "outputs": [
    {
     "data": {
      "text/plain": [
       "array([[[ 1,  2,  3,  4]],\n",
       "\n",
       "       [[ 5,  6,  7,  8]],\n",
       "\n",
       "       [[ 9, 10, 11, 12]]])"
      ]
     },
     "execution_count": 49,
     "metadata": {},
     "output_type": "execute_result"
    }
   ],
   "source": [
    "import numpy as np\n",
    "arr4=[[1, 2, 3, 4],\n",
    "[5, 6, 7, 8],\n",
    "[9, 10, 11, 12]]\n",
    "numpy_array4 = np.array(arr4)\n",
    "numpy_array5=np.expand_dims(numpy_array4,axis=1)\n",
    "numpy_array5"
   ]
  },
  {
   "cell_type": "markdown",
   "id": "8396b354-adc3-448f-afad-9fb99f69d7db",
   "metadata": {},
   "source": [
    "10. How to transpose the following array in NumPy?\n",
    "[[1, 2, 3, 4]\n",
    "[5, 6, 7, 8],\n",
    "[9, 10, 11, 12]]"
   ]
  },
  {
   "cell_type": "code",
   "execution_count": 2,
   "id": "3bf9ba15-fffe-4781-a294-718e16d82b2e",
   "metadata": {},
   "outputs": [
    {
     "data": {
      "text/plain": [
       "array([[ 1,  5,  9],\n",
       "       [ 2,  6, 10],\n",
       "       [ 3,  7, 11],\n",
       "       [ 4,  8, 12]])"
      ]
     },
     "execution_count": 2,
     "metadata": {},
     "output_type": "execute_result"
    }
   ],
   "source": [
    "import numpy as np\n",
    "arr5=[[1, 2, 3, 4],\n",
    "[5, 6, 7, 8],\n",
    "[9, 10, 11, 12]]\n",
    "numpy_array5 = np.array(arr5)\n",
    "numpy_array5.T"
   ]
  },
  {
   "cell_type": "markdown",
   "id": "970ad1f0-0c4a-473c-9c23-816c1e297e46",
   "metadata": {},
   "source": [
    "11. Consi^er the following matrix:\n",
    "Matrix A2 [[1, 2, 3, 4] [5, 6, 7, 8],[9, 10, 11, 12]]\n",
    "Matrix B2 [[1, 2, 3, 4] [5, 6, 7, 8],[9, 10, 11, 12]]\n",
    "Perform the following operation using Python1\n",
    ",+ Index wise multiplication\n",
    "]+ Matix multiplication\n",
    "+ Add both the maticK\n",
    "-+ Subtact matix B om \n",
    "+ Diide Matix B by A"
   ]
  },
  {
   "cell_type": "code",
   "execution_count": 9,
   "id": "87b31932-fd34-4cc2-82cc-47f7144b1ec8",
   "metadata": {},
   "outputs": [
    {
     "name": "stdout",
     "output_type": "stream",
     "text": [
      "Index-wise Multiplication:\n",
      "[[  1   4   9  16]\n",
      " [ 25  36  49  64]\n",
      " [ 81 100 121 144]]\n",
      "\n",
      "Matrix Multiplication:\n",
      "[[ 30  70 110]\n",
      " [ 70 174 278]\n",
      " [110 278 446]]\n",
      "\n",
      "Matrix Addition:\n",
      "[[ 2  4  6  8]\n",
      " [10 12 14 16]\n",
      " [18 20 22 24]]\n",
      "\n",
      "Matrix Subtraction:\n",
      "[[0 0 0 0]\n",
      " [0 0 0 0]\n",
      " [0 0 0 0]]\n",
      "\n",
      "Matrix Division (Element-wise):\n",
      "[[1. 1. 1. 1.]\n",
      " [1. 1. 1. 1.]\n",
      " [1. 1. 1. 1.]]\n"
     ]
    }
   ],
   "source": [
    "import numpy as np\n",
    "A2 = np.array([[1, 2, 3, 4],\n",
    "               [5, 6, 7, 8],\n",
    "               [9, 10, 11, 12]])\n",
    "\n",
    "B2 = np.array([[1, 2, 3, 4],\n",
    "               [5, 6, 7, 8],\n",
    "               [9, 10, 11, 12]])\n",
    "\n",
    "index_wise_multiplication = A2 * B2\n",
    "\n",
    "# Matrix multiplication\n",
    "matrix_multiplication = np.dot(A2, B2.T)  # Transposing B2 to match dimensions\n",
    "\n",
    "# Addition of both matrices\n",
    "matrix_addition = A2 + B2\n",
    "\n",
    "# Subtraction of matrix B2 from A2\n",
    "matrix_subtraction = A2 - B2\n",
    "\n",
    "# Element-wise division of matrix B2 by A2\n",
    "matrix_division = np.divide(B2, A2)\n",
    "\n",
    "print(\"Index-wise Multiplication:\")\n",
    "print(index_wise_multiplication)\n",
    "\n",
    "print(\"\\nMatrix Multiplication:\")\n",
    "print(matrix_multiplication)\n",
    "\n",
    "print(\"\\nMatrix Addition:\")\n",
    "print(matrix_addition)\n",
    "\n",
    "print(\"\\nMatrix Subtraction:\")\n",
    "print(matrix_subtraction)\n",
    "\n",
    "print(\"\\nMatrix Division (Element-wise):\")\n",
    "print(matrix_division)"
   ]
  },
  {
   "cell_type": "markdown",
   "id": "fcf1c638-d33b-4e57-a852-6583bf3ab9fc",
   "metadata": {},
   "source": [
    "12. Which function in Numpy can be used to swap the byte order of an array?"
   ]
  },
  {
   "cell_type": "markdown",
   "id": "30d3458b-2e93-4180-87e6-803164f0501b",
   "metadata": {},
   "source": [
    "In this example, the original array is created with a specified byte order using the dtype parameter. The byteswap method is then applied to swap the byte order of the array. The result is a new array with the byte order swapped.\n",
    "\n",
    "Note that the dtype parameter in the array creation specifies the data type and byte order. In the example, '>i4' indicates a 32-bit integer with big-endian byte order.\n",
    "\n",
    "Keep in mind that the byteswap method is applied in-place, meaning it modifies the original array. If you want to keep the original array unchanged, you may want to create a copy of the array before applying the byteswap method."
   ]
  },
  {
   "cell_type": "code",
   "execution_count": 55,
   "id": "2fb713cf-812c-4403-a2f6-4935532278de",
   "metadata": {},
   "outputs": [
    {
     "name": "stdout",
     "output_type": "stream",
     "text": [
      "Original array:\n",
      "[1 2 3 4]\n",
      "\n",
      "Swapped array:\n",
      "[16777216 33554432 50331648 67108864]\n"
     ]
    }
   ],
   "source": [
    "import numpy as np\n",
    "original_array = np.array([1, 2, 3, 4], dtype='>i4') \n",
    "print(\"Original array:\")\n",
    "print(original_array)\n",
    "swapped_array = original_array.byteswap()\n",
    "print(\"\\nSwapped array:\")\n",
    "print(swapped_array)"
   ]
  },
  {
   "cell_type": "markdown",
   "id": "8b4f5d98-ba71-477a-9446-a20c624e63c2",
   "metadata": {},
   "source": [
    "13. What is the significance of the np.linalg.inv function?"
   ]
  },
  {
   "cell_type": "markdown",
   "id": "3f874e6e-2f53-4562-93aa-604e9c9853f7",
   "metadata": {},
   "source": [
    "The np.linalg.inv function in NumPy is used to compute the multiplicative inverse (or matrix inverse) of a square matrix. The significance of this function lies in various mathematical and computational applications. \n",
    "\n",
    "Here are some key points regarding the significance of np.linalg.inv:\n",
    "\n",
    "1.Solving Linear Systems of Equations\n",
    "2.Eigenvalue and Eigenvector Calculations\n",
    "3.Numerical Stability and Conditioning\n",
    "4."
   ]
  },
  {
   "cell_type": "markdown",
   "id": "5ee675b9-1b21-4254-9560-b5dc183a029c",
   "metadata": {},
   "source": [
    "14. What does the np.reshape function do, and how is it used?"
   ]
  },
  {
   "cell_type": "markdown",
   "id": "328fdcab-b98a-4bb1-99da-63912f4510b0",
   "metadata": {},
   "source": [
    "The np.reshape function in NumPy is used to change the shape of an array without changing its data. It allows you to specify the new shape of the array while keeping the total number of elements unchanged. Reshaping is a useful operation when you need to rearrange the dimensions of an array to fit a specific requirement or to match the expected input shape for certain functions.\n",
    "\n",
    "The syntax of np.reshape is as follows:\n",
    "\n",
    "numpy.reshape(a, newshape, order='C')\n",
    "\n",
    "a: The array to be reshaped.\n",
    "newshape: The new shape (tuple) that you want to assign to the array.\n",
    "order: Optional parameter specifying the order of the elements. It can be 'C' for row-major (default) or 'F' for column-major."
   ]
  },
  {
   "cell_type": "code",
   "execution_count": 64,
   "id": "bca733d5-513c-442d-a899-fba52272bd02",
   "metadata": {},
   "outputs": [
    {
     "name": "stdout",
     "output_type": "stream",
     "text": [
      "Original Array:\n",
      "[1 2 3 4 5 6]\n",
      "\n",
      "Reshaped Array:\n",
      "[[1 2]\n",
      " [3 4]\n",
      " [5 6]]\n",
      "Original Array1:\n",
      "[[1 2]\n",
      " [3 4]\n",
      " [5 6]]\n",
      "\n",
      "Reshaped Array1:\n",
      "[[1 2 3]\n",
      " [4 5 6]]\n",
      "Original Array2:\n",
      "[1 2 3 4 5 6]\n",
      "\n",
      "Reshaped Array2:\n",
      "[[1 2]\n",
      " [3 4]\n",
      " [5 6]]\n"
     ]
    }
   ],
   "source": [
    "import numpy as np\n",
    "\n",
    "original_array = np.array([1, 2, 3, 4, 5, 6])\n",
    "reshaped_array = np.reshape(original_array, (3, 2))\n",
    "\n",
    "print(\"Original Array:\")\n",
    "print(original_array)\n",
    "\n",
    "print(\"\\nReshaped Array:\")\n",
    "print(reshaped_array)\n",
    "\n",
    "original_array1 = np.array([[1, 2], [3, 4], [5, 6]])\n",
    "reshaped_array1 = np.reshape(original_array1, (2, 3))\n",
    "\n",
    "print(\"Original Array1:\")\n",
    "print(original_array1)\n",
    "\n",
    "print(\"\\nReshaped Array1:\")\n",
    "print(reshaped_array1)\n",
    "\n",
    "original_array2 = np.array([1, 2, 3, 4, 5, 6])\n",
    "reshaped_array2 = np.reshape(original_array2, (3, -1))\n",
    "\n",
    "print(\"Original Array2:\")\n",
    "print(original_array2)\n",
    "\n",
    "print(\"\\nReshaped Array2:\")\n",
    "print(reshaped_array2)"
   ]
  },
  {
   "cell_type": "markdown",
   "id": "87ee63c8-d2bf-4a30-ac02-1dcf00706435",
   "metadata": {},
   "source": [
    "15. What is broadcasting in Numpy?"
   ]
  },
  {
   "cell_type": "markdown",
   "id": "892e5972-5d37-4002-8626-e660ba36bbe9",
   "metadata": {},
   "source": [
    "Broadcasting in NumPy refers to the ability of NumPy to perform element-wise operations on arrays of different shapes and sizes during arithmetic operations. This enables NumPy to work with arrays of different shapes without explicitly reshaping them, making the code more concise and efficient.\n",
    "\n",
    "In NumPy, for two arrays to be compatible for broadcasting, the size of the trailing dimensions (dimensions on the right) must either be the same or one of them must be 1. The smaller array is \"broadcast\" across the larger array so that they have compatible shapes for element-wise operations.\n",
    "\n",
    "Broadcasting simplifies the syntax and improves the efficiency of array operations, as it eliminates the need for explicit reshaping or tiling of arrays before performing operations. However, it's important to understand the broadcasting rules to avoid unexpected behavior and errors. The rules ensure that the arrays are broadcastable and the dimensions are compatible for element-wise operations."
   ]
  },
  {
   "cell_type": "code",
   "execution_count": 60,
   "id": "31c1bbf2-04b2-421b-93b7-7c14c50eb223",
   "metadata": {},
   "outputs": [
    {
     "name": "stdout",
     "output_type": "stream",
     "text": [
      "[2 4 6]\n"
     ]
    }
   ],
   "source": [
    "import numpy as np\n",
    "scalar_value = 2\n",
    "array = np.array([1, 2, 3])\n",
    "result = scalar_value * array\n",
    "print(result)"
   ]
  },
  {
   "cell_type": "code",
   "execution_count": 59,
   "id": "9bacfaf0-f701-4159-83ad-8e2ec7b9035e",
   "metadata": {},
   "outputs": [
    {
     "name": "stdout",
     "output_type": "stream",
     "text": [
      "[[[ 2  4  6]\n",
      "  [ 8 10 12]]\n",
      "\n",
      " [[ 8 10 12]\n",
      "  [14 16 18]]]\n"
     ]
    }
   ],
   "source": [
    "import numpy as np\n",
    "array_2d = np.array([[1, 2, 3], [4, 5, 6]])\n",
    "array_3d = np.array([[[1, 2, 3], [4, 5, 6]], [[7, 8, 9], [10, 11, 12]]])\n",
    "result = array_2d + array_3d\n",
    "print(result)"
   ]
  },
  {
   "cell_type": "code",
   "execution_count": null,
   "id": "b0624022-fe03-46f5-84e6-1a6ea913f29a",
   "metadata": {},
   "outputs": [],
   "source": []
  }
 ],
 "metadata": {
  "kernelspec": {
   "display_name": "Python 3 (ipykernel)",
   "language": "python",
   "name": "python3"
  },
  "language_info": {
   "codemirror_mode": {
    "name": "ipython",
    "version": 3
   },
   "file_extension": ".py",
   "mimetype": "text/x-python",
   "name": "python",
   "nbconvert_exporter": "python",
   "pygments_lexer": "ipython3",
   "version": "3.10.8"
  }
 },
 "nbformat": 4,
 "nbformat_minor": 5
}
